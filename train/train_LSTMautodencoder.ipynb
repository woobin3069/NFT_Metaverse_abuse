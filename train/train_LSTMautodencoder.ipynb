{
  "nbformat": 4,
  "nbformat_minor": 0,
  "metadata": {
    "colab": {
      "name": "train_LSTMautodencoder.ipynb",
      "provenance": []
    },
    "kernelspec": {
      "name": "python3",
      "display_name": "Python 3"
    },
    "language_info": {
      "name": "python"
    }
  },
  "cells": [
    {
      "cell_type": "code",
      "source": [
        "import pandas as pd \n",
        "import numpy as np\n",
        "import tensorflow as tf\n",
        "from tensorflow.keras import Model ,models, layers, optimizers, utils"
      ],
      "metadata": {
        "id": "b6vzRpHkjdZr"
      },
      "execution_count": null,
      "outputs": []
    },
    {
      "cell_type": "code",
      "source": [
        "from tensorflow.keras.optimizers import Adam\n",
        "with tf.device('/gpu:0'):\n",
        "  visible = layers.Input(shape=(X_train.shape[1], 1))\n",
        "  encoder = layers.LSTM(100, activation='tanh')(visible)\n",
        "  # define reconstruct decoder\n",
        "  decoder1 = layers.RepeatVector(X_train.shape[1])(encoder)\n",
        "  decoder1 = layers.LSTM(100, activation='tanh', return_sequences=True)(decoder1)\n",
        "  decoder1 = layers.TimeDistributed(layers.Dense(1))(decoder1)\n",
        "  # define predict decoder\n",
        "  decoder2 = layers.RepeatVector(X_train.shape[1])(encoder)\n",
        "  decoder2 = layers.LSTM(100, activation='tanh', return_sequences=True)(decoder2)\n",
        "  decoder2 = layers.TimeDistributed(layers.Dense(1))(decoder2)\n",
        "  # concat model\n",
        "  model = Model(inputs=visible, outputs=[decoder1, decoder2])\n",
        "  # model.compile(optimizer='adam', loss='mse')\n",
        "\n",
        "  model.compile(optimizer=Adam(learning_rate=0.0001, beta_1=0.9, beta_2=0.999, epsilon=1e-08, decay=0.0), loss=\"mse\", metrics=[\"accuracy\"])\n",
        "  history = model.fit(\n",
        "      X_train, y_train, batch_size=128, epochs=15, validation_data=(X_test, y_test)\n",
        "  )"
      ],
      "metadata": {
        "id": "E-ZQGRpakJvZ"
      },
      "execution_count": null,
      "outputs": []
    },
    {
      "cell_type": "code",
      "source": [
        "import matplotlib.pyplot as plt\n",
        "\n",
        "plt.plot(history.history['val_time_distributed_4_accuracy'])\n",
        "plt.plot(history.history['val_time_distributed_5_accuracy'])\n",
        "plt.title('Model accuracy')\n",
        "plt.xlabel('Epoch')\n",
        "plt.ylabel('Accuracy')\n",
        "plt.legend(['Train', 'Test'], loc='upper left')\n",
        "plt.show()\n",
        "\n",
        "plt.plot(history.history['val_time_distributed_4_loss'])\n",
        "plt.plot(history.history['val_time_distributed_5_loss'])\n",
        "plt.title('Model loss')\n",
        "plt.xlabel('Epoch')\n",
        "plt.ylabel('Loss')\n",
        "plt.legend(['Train', 'Test'], loc='upper left')\n",
        "plt.show()"
      ],
      "metadata": {
        "id": "oeSdymCfkSF-"
      },
      "execution_count": null,
      "outputs": []
    }
  ]
}