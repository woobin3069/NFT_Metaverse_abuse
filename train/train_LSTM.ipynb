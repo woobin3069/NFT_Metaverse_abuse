{
  "nbformat": 4,
  "nbformat_minor": 0,
  "metadata": {
    "colab": {
      "name": "train_autoencoder.ipynb",
      "provenance": []
    },
    "kernelspec": {
      "name": "python3",
      "display_name": "Python 3"
    },
    "language_info": {
      "name": "python"
    }
  },
  "cells": [
    {
      "cell_type": "code",
      "source": [
        "from numpy import array\n",
        "from keras.models import Sequential\n",
        "from keras.layers import Dense, LSTM\n",
        "from tensorflow.keras.optimizers import Adam\n",
        "\n",
        "import tensorflow as tf\n",
        "\n",
        "with tf.device('/gpu:0'):\n",
        "  model = Sequential()\n",
        "  model.add(LSTM(32, activation = 'tanh', input_shape=(X_train.shape[1], 1), return_sequences=True))\n",
        "  model.add(Dense(16))\n",
        "  model.add(Dense(8))\n",
        "  model.add(Dense(4))\n",
        "  model.add(Dense(1))\n",
        "  \n",
        "  model.summary()\n",
        "  \n",
        "  model.compile(optimizer=Adam(learning_rate=0.00001, beta_1=0.9, beta_2=0.999, epsilon=1e-08, decay=0.0), loss='mse',metrics=['accuracy'])\n",
        "  history = model.fit(X_train, y_train, epochs=50,validation_data=(X_test, y_test), batch_size=256)"
      ],
      "metadata": {
        "id": "b6vzRpHkjdZr"
      },
      "execution_count": null,
      "outputs": []
    }
  ]
}