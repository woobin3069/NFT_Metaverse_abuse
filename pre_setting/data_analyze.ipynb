{
  "nbformat": 4,
  "nbformat_minor": 0,
  "metadata": {
    "colab": {
      "name": "data_analyze.ipynb",
      "provenance": []
    },
    "kernelspec": {
      "name": "python3",
      "display_name": "Python 3"
    },
    "language_info": {
      "name": "python"
    }
  },
  "cells": [
    {
      "cell_type": "code",
      "execution_count": null,
      "metadata": {
        "id": "hPV8Avn8hdqT"
      },
      "outputs": [],
      "source": [
        "import pandas as pd\n",
        "import numpy as np\n",
        "\n",
        "#크롤링 데이터를 다시 불러옵니다.\n",
        "name = np.array([])\n",
        "desc = np.array([])\n",
        "sales = np.array([])\n",
        "collection_name = np.array([])\n",
        "date = np.array([])\n",
        "\n",
        "for i in range(1, 4):\n",
        "  desc = np.concatenate((desc, np.load('./drive/MyDrive/opensea/22desc_' + str(i) + '.npy')), axis=0)\n",
        "\n",
        "df = pd.DataFrame()\n",
        "df['desc'] = desc"
      ]
    },
    {
      "cell_type": "code",
      "source": [
        "import nltk\n",
        "\n",
        "nltk.download('punkt')\n",
        "nltk.download('averaged_perceptron_tagger')\n",
        "tokens = nltk.word_tokenize(text)\n",
        "text = nltk.Text(tokens)\n",
        "\n",
        "tokens_l = [w.lower() for w in tokens]"
      ],
      "metadata": {
        "id": "GKaMizsRiSze"
      },
      "execution_count": null,
      "outputs": []
    },
    {
      "cell_type": "code",
      "source": [
        "import nltk\n",
        "import urllib\n",
        "import re\n",
        "from bs4 import BeautifulSoup\n",
        "from nltk.corpus import stopwords \n",
        "import matplotlib\n",
        "import matplotlib.pyplot as plt\n",
        "import random"
      ],
      "metadata": {
        "id": "Tu2p0VBmiUni"
      },
      "execution_count": null,
      "outputs": []
    },
    {
      "cell_type": "code",
      "source": [
        "tokens=[tok for tok in text]\n",
        "nltk.download('stopwords')\n",
        "stop=set(stopwords.words('english'))\n",
        "clean_tokens= [tok for tok in tokens if len(tok.lower())>1 and (tok.lower() not in stop)]\n",
        "\n",
        "tagged=nltk.pos_tag(clean_tokens)\n",
        "allnoun=[word for word,pos in tagged if pos in ['NN','NNP']]\n",
        "\n",
        "Freq_dist_nltk = nltk.FreqDist(allnoun)\n",
        "Freq_dist_nltk.plot(20, cumulative=False)"
      ],
      "metadata": {
        "id": "_NNQWSSciZOX"
      },
      "execution_count": null,
      "outputs": []
    },
    {
      "cell_type": "code",
      "source": [
        "import pandas as pd\n",
        "\n",
        "df_fdist = pd.DataFrame.from_dict(Freq_dist_nltk, orient='index')\n",
        "df_fdist.columns = ['freq']\n",
        "print(df_fdist)"
      ],
      "metadata": {
        "id": "Ls1Y-NM_iffY"
      },
      "execution_count": null,
      "outputs": []
    },
    {
      "cell_type": "code",
      "source": [
        "df_sorted_by_values = df_fdist.sort_values(by='freq' ,ascending=False)\n",
        "\n",
        "# 정렬 결과를 출력합니다.\n",
        "df_sorted_by_values.head(21)"
      ],
      "metadata": {
        "id": "1VRKSFM7ig97"
      },
      "execution_count": null,
      "outputs": []
    },
    {
      "cell_type": "code",
      "source": [
        "df_real = pd.DataFrame()\n",
        "df_real['words'] = words\n",
        "df_real['freqs'] = freqs\n",
        "\n",
        "import matplotlib.pyplot as plt\n",
        "import seaborn as sns\n",
        "\n",
        "g = sns.barplot(data=df_real,x= \"words\",y= \"freqs\", ci=None)\n",
        "ax = g\n",
        "\n",
        "from matplotlib import rcParams\n",
        "\n",
        "rcParams['figure.figsize'] = 20,8\n",
        "\n",
        "plt.xticks(fontsize=12, rotation=45)\n",
        "plt.show()"
      ],
      "metadata": {
        "id": "cQC8JR5hiiY6"
      },
      "execution_count": null,
      "outputs": []
    },
    {
      "cell_type": "code",
      "source": [
        "import seaborn as sns; sns.set()\n",
        "import pandas as pd\n",
        "import matplotlib.pyplot as plt\n",
        "\n",
        "sdf = pd.DataFrame()\n",
        "sdf['value'] = sale\n",
        "sdf['x'] = np.arange(550)"
      ],
      "metadata": {
        "id": "KLrj4fTyiluu"
      },
      "execution_count": null,
      "outputs": []
    },
    {
      "cell_type": "code",
      "source": [
        "sns.set(rc = {'figure.figsize':(40,4)})\n",
        "sns.lineplot(x='x', y=\"value\", data=sdf)"
      ],
      "metadata": {
        "id": "a3Gb3PTeinmE"
      },
      "execution_count": null,
      "outputs": []
    }
  ]
}