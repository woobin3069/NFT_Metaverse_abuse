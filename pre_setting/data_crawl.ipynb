{
  "nbformat": 4,
  "nbformat_minor": 0,
  "metadata": {
    "colab": {
      "name": "data_crawl.ipynb",
      "provenance": []
    },
    "kernelspec": {
      "name": "python3",
      "display_name": "Python 3"
    },
    "language_info": {
      "name": "python"
    }
  },
  "cells": [
    {
      "cell_type": "code",
      "execution_count": null,
      "metadata": {
        "id": "hPV8Avn8hdqT"
      },
      "outputs": [],
      "source": [
        "!pip install opensea-api"
      ]
    },
    {
      "cell_type": "code",
      "source": [
        "from opensea import OpenseaAPI\n",
        "from opensea import utils\n",
        "\n",
        "api = OpenseaAPI(apikey=\"API_KEY\") #api key를 입력합니다.\n",
        "result = api.asset(asset_contract_address=\"0x495f947276749Ce646f68AC8c248420045cb7b5e\",\n",
        "                   token_id=\"66406747123743156841746366950152533278033835913591691491127082341586364792833\") #간단하게 테스트 해봅니다.\n",
        "print(result)"
      ],
      "metadata": {
        "id": "sP61dhp7hl7y"
      },
      "execution_count": null,
      "outputs": []
    },
    {
      "cell_type": "code",
      "source": [
        "import numpy as np\n",
        "from tqdm import tqdm\n",
        "\n",
        "for i in tqdm(range(1,13)): #12개월 동안 크롤링 합니다.\n",
        "  name = np.array([]) #NFT 이름\n",
        "  sales = np.array([]) #NFT 거래 횟수\n",
        "  endprice = np.array([]) \n",
        "  proved = np.array([]) #인증계정?\n",
        "  collection_name = np.array([]) #NFT 종류\n",
        "  date = np.array([]) #NFT 등록일자\n",
        "  winacc = np.array([]) #낙찰자\n",
        "  desc = np.array([])\n",
        "\n",
        "  for j in tqdm(range(1, 27)):\n",
        "    for k in tqdm(range(20,23)):\n",
        "      try:\n",
        "        period_end = utils.datetime_utc(2022, i, j, k, 30) #크롤링 종료일\n",
        "        result = api.events(occurred_before=period_end) #크롤링해 받아옵니다.\n",
        "\n",
        "        for asset in result['asset_events']: #결과를 분류합니다.\n",
        "          try:\n",
        "            desc = np.append(desc, str(asset['asset']['description']))\n",
        "            name = np.append(name, str(asset['asset']['name']))\n",
        "            sales = np.append(sales, str(asset['asset']['num_sales']))\n",
        "            date = np.append(date, str(asset['asset']['collection']['created_date']))\n",
        "            endprice = np.append(endprice, str(asset['ending_price']))\n",
        "            proved = np.append(proved, str(asset['approved_account']))\n",
        "            winacc = np.append(winacc, str(asset['winner_account']))\n",
        "            collection_name = np.append(collection_name, str(asset['asset']['collection']['name']))\n",
        "          except:\n",
        "              print(\"NONETYPE\")\n",
        "      except:\n",
        "        print(\"NO MATCH\")\n",
        "  #결과를 저장합니다.\n",
        "  np.save('./drive/MyDrive/opensea/22name_' + str(i), name) \n",
        "  np.save('./drive/MyDrive/opensea/22sales_' + str(i), sales)\n",
        "  np.save('./drive/MyDrive/opensea/22endprice_' + str(i), endprice)\n",
        "  np.save('./drive/MyDrive/opensea/22proved_' + str(i), proved)\n",
        "  np.save('./drive/MyDrive/opensea/22winacc_' + str(i), winacc)\n",
        "  np.save('./drive/MyDrive/opensea/22collection_name_' + str(i), collection_name)\n",
        "  np.save('./drive/MyDrive/opensea/22date_' + str(i), date)\n",
        "  np.save('./drive/MyDrive/opensea/2022desc_' + str(i), desc)"
      ],
      "metadata": {
        "id": "GqhHhGeXhpMj"
      },
      "execution_count": null,
      "outputs": []
    }
  ]
}