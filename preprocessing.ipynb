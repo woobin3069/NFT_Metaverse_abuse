{
  "nbformat": 4,
  "nbformat_minor": 0,
  "metadata": {
    "colab": {
      "name": "preprocessing.ipynb",
      "provenance": []
    },
    "kernelspec": {
      "name": "python3",
      "display_name": "Python 3"
    },
    "language_info": {
      "name": "python"
    }
  },
  "cells": [
    {
      "cell_type": "code",
      "execution_count": null,
      "metadata": {
        "id": "hPV8Avn8hdqT"
      },
      "outputs": [],
      "source": [
        "from google.colab import drive\n",
        "drive.mount('/content/drive')"
      ]
    },
    {
      "cell_type": "code",
      "source": [
        "from numpy.ma.core import exp\n",
        "import numpy as np\n",
        "import pandas as pd\n",
        "from tqdm import tqdm\n",
        "\n",
        "df = pd.DataFrame()\n",
        "\n",
        "# 크롤링 데이터를 불러오기 위해 numpy array를 만듭니다.\n",
        "sale21 = np.array([])\n",
        "sale20 = np.array([])\n",
        "ep21 = np.array([])\n",
        "ep20 = np.array([])\n",
        "# pr21 = np.array([])\n",
        "# pr20 = np.array([])\n",
        "\n",
        "# 2020년, 2021년 opensea 데이터를 가져옵니다.\n",
        "for i in tqdm(range(1,13)):\n",
        "  sale20 = np.append(sale20, np.load('./drive/MyDrive/opensea/sales_' + str(i) + '.npy'))\n",
        "  sale21 = np.append(sale21, np.load('./drive/MyDrive/opensea/22sales_' + str(i) + '.npy'))\n",
        "\n",
        "  ep20 = np.append(ep20, np.load('./drive/MyDrive/opensea/endprice_' + str(i) + '.npy'))\n",
        "  ep21 = np.append(ep21, np.load('./drive/MyDrive/opensea/22endprice_' + str(i) + '.npy'))\n",
        "\n",
        "# df에 데이터를 넣어줍니다.\n",
        "sale = np.concatenate((sale20, sale21), axis=None)\n",
        "ep = np.concatenate((ep20, ep21), axis=None)\n",
        "df['sale'] = sale\n",
        "df['ep'] = ep\n",
        "\n",
        "not_null = df['ep'] != 'None'\n",
        "\n",
        "# # 조건를 충족하는 데이터를 필터링하여 새로운 변수에 저장합니다.\n",
        "subset_df = df[not_null]\n",
        "subset_df"
      ],
      "metadata": {
        "id": "GKaMizsRiSze"
      },
      "execution_count": null,
      "outputs": []
    },
    {
      "cell_type": "code",
      "source": [
        "# 판매량, 최종가를 이용하여 비율을 저장합니다.\n",
        "ratiodf = pd.DataFrame()\n",
        "ratio = np.array([])\n",
        "for ind in subset_df.index:\n",
        "  ratio = np.append(ratio, int(subset_df['ep'][ind]) / (int(subset_df['sale'][ind]) + 1))\n",
        "ratiodf['value'] = ratio\n",
        "ratiodf"
      ],
      "metadata": {
        "id": "Tu2p0VBmiUni"
      },
      "execution_count": null,
      "outputs": []
    },
    {
      "cell_type": "code",
      "source": [
        "# 데이터를 최종적으로 정리합니다.\n",
        "ratios = np.array(ratiodf['value'])\n",
        "maginot = np.percentile(ratios, [10,90], interpolation='nearest')\n",
        "suspect = np.array([])\n",
        "for ind in ratiodf.index:\n",
        "  if ratiodf['value'][ind] < maginot[0]:\n",
        "    suspect = np.append(suspect, 1)\n",
        "  elif ratiodf['value'][ind] > maginot[1]:\n",
        "    suspect = np.append(suspect, 1)\n",
        "  else:\n",
        "    suspect = np.append(suspect, 0)\n",
        "subset_df['Class'] = suspect\n",
        "subset_df['rep'] = rep\n",
        "subset_df = subset_df.dropna(axis=0)\n",
        "subset_df = subset_df.reset_index()\n",
        "subset_df = subset_df[['sale','rep','Class']]\n",
        "subset_df"
      ],
      "metadata": {
        "id": "_NNQWSSciZOX"
      },
      "execution_count": null,
      "outputs": []
    },
    {
      "cell_type": "code",
      "source": [
        "from sklearn.model_selection import train_test_split\n",
        "# 학습 데이터와 테스트 데이터를 나눠줍니다.\n",
        "X_train, X_test = train_test_split(subset_df.astype(int), test_size= 0.3, random_state=42) \n",
        "\n",
        "# Class를 분리하여줍니다.\n",
        "y_test = X_test['Class'] \n",
        "X_test = X_test.drop(['Class'], axis= 1) \n",
        "\n",
        "y_train = X_train['Class'] \n",
        "X_train = X_train.drop(['Class'], axis= 1) \n",
        "\n",
        "X_train = X_train.values \n",
        "X_test = X_test.values \n",
        "X_train.shape "
      ],
      "metadata": {
        "id": "Ls1Y-NM_iffY"
      },
      "execution_count": null,
      "outputs": []
    },
    {
      "cell_type": "code",
      "source": [
        "from sklearn.preprocessing import StandardScaler\n",
        "\n",
        "# 변형 객체 생성\n",
        "std_scaler = StandardScaler()\n",
        "\n",
        "# 훈련데이터의 모수 분포 저장\n",
        "std_scaler.fit(X_train)\n",
        "\n",
        "# 훈련 데이터 스케일링\n",
        "X_train = std_scaler.transform(X_train)\n",
        "\n",
        "# 테스트 데이터의 스케일링\n",
        "X_test = std_scaler.transform(X_test)"
      ],
      "metadata": {
        "id": "1VRKSFM7ig97"
      },
      "execution_count": null,
      "outputs": []
    }
  ]
}